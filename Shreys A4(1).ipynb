{
 "cells": [
  {
   "cell_type": "code",
   "execution_count": 1,
   "id": "a6bbcf6d",
   "metadata": {
    "scrolled": true
   },
   "outputs": [
    {
     "name": "stdout",
     "output_type": "stream",
     "text": [
      "Requirement already satisfied: factor_analyzer in /opt/anaconda3/lib/python3.11/site-packages (0.5.1)\n",
      "Requirement already satisfied: pandas in /opt/anaconda3/lib/python3.11/site-packages (from factor_analyzer) (2.1.4)\n",
      "Requirement already satisfied: scipy in /opt/anaconda3/lib/python3.11/site-packages (from factor_analyzer) (1.11.4)\n",
      "Requirement already satisfied: numpy in /opt/anaconda3/lib/python3.11/site-packages (from factor_analyzer) (1.26.4)\n",
      "Requirement already satisfied: scikit-learn in /opt/anaconda3/lib/python3.11/site-packages (from factor_analyzer) (1.2.2)\n",
      "Requirement already satisfied: python-dateutil>=2.8.2 in /opt/anaconda3/lib/python3.11/site-packages (from pandas->factor_analyzer) (2.8.2)\n",
      "Requirement already satisfied: pytz>=2020.1 in /opt/anaconda3/lib/python3.11/site-packages (from pandas->factor_analyzer) (2023.3.post1)\n",
      "Requirement already satisfied: tzdata>=2022.1 in /opt/anaconda3/lib/python3.11/site-packages (from pandas->factor_analyzer) (2023.3)\n",
      "Requirement already satisfied: joblib>=1.1.1 in /opt/anaconda3/lib/python3.11/site-packages (from scikit-learn->factor_analyzer) (1.2.0)\n",
      "Requirement already satisfied: threadpoolctl>=2.0.0 in /opt/anaconda3/lib/python3.11/site-packages (from scikit-learn->factor_analyzer) (2.2.0)\n",
      "Requirement already satisfied: six>=1.5 in /opt/anaconda3/lib/python3.11/site-packages (from python-dateutil>=2.8.2->pandas->factor_analyzer) (1.16.0)\n"
     ]
    }
   ],
   "source": [
    "!pip install factor_analyzer"
   ]
  },
  {
   "cell_type": "code",
   "execution_count": 2,
   "id": "43a046d6",
   "metadata": {},
   "outputs": [],
   "source": [
    "import pandas as pd\n",
    "import numpy as np\n",
    "import factor_analyzer as fa\n",
    "import matplotlib.pyplot as plt\n",
    "from scipy.io import loadmat"
   ]
  },
  {
   "cell_type": "code",
   "execution_count": 3,
   "id": "285d97a4",
   "metadata": {},
   "outputs": [
    {
     "name": "stderr",
     "output_type": "stream",
     "text": [
      "/opt/anaconda3/lib/python3.11/site-packages/_distutils_hack/__init__.py:33: UserWarning: Setuptools is replacing distutils.\n",
      "  warnings.warn(\"Setuptools is replacing distutils.\")\n"
     ]
    }
   ],
   "source": [
    "import importlib\n",
    "import pip\n",
    "\n",
    "def install_and_load(packages):\n",
    "    for package in packages:\n",
    "        try:\n",
    "            module = importlib.import_module(package)\n",
    "        except ImportError:\n",
    "            pip.main(['install', package])\n",
    "            module = importlib.import_module(package)"
   ]
  },
  {
   "cell_type": "code",
   "execution_count": 5,
   "id": "6b009c03",
   "metadata": {},
   "outputs": [],
   "source": [
    "# List of packages to install and load\n",
    "packages = [\"pandas\", \"numpy\", \"factor_analyzer\", \"matplotlib\", \"scipy\"]"
   ]
  },
  {
   "cell_type": "code",
   "execution_count": 6,
   "id": "1b9e8386",
   "metadata": {},
   "outputs": [],
   "source": [
    "# Call the function\n",
    "install_and_load(packages)"
   ]
  },
  {
   "cell_type": "code",
   "execution_count": 7,
   "id": "4d95551e",
   "metadata": {},
   "outputs": [],
   "source": [
    "# List of packages to install and load\n",
    "packages = [\"pandas\", \"numpy\", \"factor_analyzer\", \"matplotlib\", \"scipy\"]"
   ]
  },
  {
   "cell_type": "code",
   "execution_count": 8,
   "id": "578bd7cf",
   "metadata": {},
   "outputs": [],
   "source": [
    "# Call the function\n",
    "install_and_load(packages)"
   ]
  },
  {
   "cell_type": "code",
   "execution_count": 10,
   "id": "f9e245e8",
   "metadata": {},
   "outputs": [],
   "source": [
    "# Read the data\n",
    "survey_df = pd.read_csv('/Users/shreyamishra/Desktop/Survey.csv')\n",
    "sur_int = survey_df.iloc[:, 19:45]  # Adjust the column range accordingly"
   ]
  },
  {
   "cell_type": "code",
   "execution_count": 11,
   "id": "c53dfc9d",
   "metadata": {},
   "outputs": [
    {
     "data": {
      "text/html": [
       "<style>#sk-container-id-1 {color: black;background-color: white;}#sk-container-id-1 pre{padding: 0;}#sk-container-id-1 div.sk-toggleable {background-color: white;}#sk-container-id-1 label.sk-toggleable__label {cursor: pointer;display: block;width: 100%;margin-bottom: 0;padding: 0.3em;box-sizing: border-box;text-align: center;}#sk-container-id-1 label.sk-toggleable__label-arrow:before {content: \"▸\";float: left;margin-right: 0.25em;color: #696969;}#sk-container-id-1 label.sk-toggleable__label-arrow:hover:before {color: black;}#sk-container-id-1 div.sk-estimator:hover label.sk-toggleable__label-arrow:before {color: black;}#sk-container-id-1 div.sk-toggleable__content {max-height: 0;max-width: 0;overflow: hidden;text-align: left;background-color: #f0f8ff;}#sk-container-id-1 div.sk-toggleable__content pre {margin: 0.2em;color: black;border-radius: 0.25em;background-color: #f0f8ff;}#sk-container-id-1 input.sk-toggleable__control:checked~div.sk-toggleable__content {max-height: 200px;max-width: 100%;overflow: auto;}#sk-container-id-1 input.sk-toggleable__control:checked~label.sk-toggleable__label-arrow:before {content: \"▾\";}#sk-container-id-1 div.sk-estimator input.sk-toggleable__control:checked~label.sk-toggleable__label {background-color: #d4ebff;}#sk-container-id-1 div.sk-label input.sk-toggleable__control:checked~label.sk-toggleable__label {background-color: #d4ebff;}#sk-container-id-1 input.sk-hidden--visually {border: 0;clip: rect(1px 1px 1px 1px);clip: rect(1px, 1px, 1px, 1px);height: 1px;margin: -1px;overflow: hidden;padding: 0;position: absolute;width: 1px;}#sk-container-id-1 div.sk-estimator {font-family: monospace;background-color: #f0f8ff;border: 1px dotted black;border-radius: 0.25em;box-sizing: border-box;margin-bottom: 0.5em;}#sk-container-id-1 div.sk-estimator:hover {background-color: #d4ebff;}#sk-container-id-1 div.sk-parallel-item::after {content: \"\";width: 100%;border-bottom: 1px solid gray;flex-grow: 1;}#sk-container-id-1 div.sk-label:hover label.sk-toggleable__label {background-color: #d4ebff;}#sk-container-id-1 div.sk-serial::before {content: \"\";position: absolute;border-left: 1px solid gray;box-sizing: border-box;top: 0;bottom: 0;left: 50%;z-index: 0;}#sk-container-id-1 div.sk-serial {display: flex;flex-direction: column;align-items: center;background-color: white;padding-right: 0.2em;padding-left: 0.2em;position: relative;}#sk-container-id-1 div.sk-item {position: relative;z-index: 1;}#sk-container-id-1 div.sk-parallel {display: flex;align-items: stretch;justify-content: center;background-color: white;position: relative;}#sk-container-id-1 div.sk-item::before, #sk-container-id-1 div.sk-parallel-item::before {content: \"\";position: absolute;border-left: 1px solid gray;box-sizing: border-box;top: 0;bottom: 0;left: 50%;z-index: -1;}#sk-container-id-1 div.sk-parallel-item {display: flex;flex-direction: column;z-index: 1;position: relative;background-color: white;}#sk-container-id-1 div.sk-parallel-item:first-child::after {align-self: flex-end;width: 50%;}#sk-container-id-1 div.sk-parallel-item:last-child::after {align-self: flex-start;width: 50%;}#sk-container-id-1 div.sk-parallel-item:only-child::after {width: 0;}#sk-container-id-1 div.sk-dashed-wrapped {border: 1px dashed gray;margin: 0 0.4em 0.5em 0.4em;box-sizing: border-box;padding-bottom: 0.4em;background-color: white;}#sk-container-id-1 div.sk-label label {font-family: monospace;font-weight: bold;display: inline-block;line-height: 1.2em;}#sk-container-id-1 div.sk-label-container {text-align: center;}#sk-container-id-1 div.sk-container {/* jupyter's `normalize.less` sets `[hidden] { display: none; }` but bootstrap.min.css set `[hidden] { display: none !important; }` so we also need the `!important` here to be able to override the default hidden behavior on the sphinx rendered scikit-learn.org. See: https://github.com/scikit-learn/scikit-learn/issues/21755 */display: inline-block !important;position: relative;}#sk-container-id-1 div.sk-text-repr-fallback {display: none;}</style><div id=\"sk-container-id-1\" class=\"sk-top-container\"><div class=\"sk-text-repr-fallback\"><pre>FactorAnalyzer(n_factors=4, rotation=&#x27;varimax&#x27;, rotation_kwargs={})</pre><b>In a Jupyter environment, please rerun this cell to show the HTML representation or trust the notebook. <br />On GitHub, the HTML representation is unable to render, please try loading this page with nbviewer.org.</b></div><div class=\"sk-container\" hidden><div class=\"sk-item\"><div class=\"sk-estimator sk-toggleable\"><input class=\"sk-toggleable__control sk-hidden--visually\" id=\"sk-estimator-id-1\" type=\"checkbox\" checked><label for=\"sk-estimator-id-1\" class=\"sk-toggleable__label sk-toggleable__label-arrow\">FactorAnalyzer</label><div class=\"sk-toggleable__content\"><pre>FactorAnalyzer(n_factors=4, rotation=&#x27;varimax&#x27;, rotation_kwargs={})</pre></div></div></div></div></div>"
      ],
      "text/plain": [
       "FactorAnalyzer(n_factors=4, rotation='varimax', rotation_kwargs={})"
      ]
     },
     "execution_count": 11,
     "metadata": {},
     "output_type": "execute_result"
    }
   ],
   "source": [
    "# Factor Analysis\n",
    "fa = fa.FactorAnalyzer(n_factors=4, rotation=\"varimax\")\n",
    "fa.fit(sur_int.to_numpy())"
   ]
  },
  {
   "cell_type": "code",
   "execution_count": 12,
   "id": "442777dc",
   "metadata": {},
   "outputs": [
    {
     "name": "stdout",
     "output_type": "stream",
     "text": [
      "[[-0.1578101   0.42809136  0.05879244 -0.13526353]\n",
      " [ 0.07288456  0.07797564 -0.09376015  0.72270597]\n",
      " [ 0.67791474 -0.10906028  0.25599157  0.12315537]\n",
      " [ 0.45294306  0.19306867 -0.14202125  0.09102672]\n",
      " [ 0.56145097  0.05977593 -0.15846106  0.10167805]\n",
      " [ 0.44508348 -0.0324726  -0.02008423  0.46566123]\n",
      " [ 0.40127303  0.65592566 -0.04681206  0.06621178]\n",
      " [ 0.54536401  0.17133538 -0.06944276 -0.1745679 ]\n",
      " [ 0.77346814 -0.23204539  0.31139215 -0.08601212]\n",
      " [ 0.13600482  0.10476011 -0.0760528  -0.18510778]\n",
      " [ 0.74442307  0.09827161 -0.06279514  0.13271727]\n",
      " [ 0.61456757  0.12385519 -0.10379083  0.25558763]\n",
      " [ 0.831264    0.04360934 -0.01602555 -0.06757233]\n",
      " [ 0.18089295  0.57811311 -0.0649642   0.09677394]\n",
      " [ 0.08522971 -0.12722078  0.51492481 -0.0147638 ]\n",
      " [-0.12867754  0.18571432  0.51035205 -0.01479767]\n",
      " [-0.09884298 -0.09829734  0.31043876 -0.06327067]\n",
      " [-0.12075304 -0.08561138  0.88293092  0.28205676]\n",
      " [ 0.41597756  0.4862524  -0.13041833 -0.03370874]\n",
      " [ 0.3030142   0.14591217  0.26406001 -0.08696873]\n",
      " [ 0.64708197  0.39365566 -0.18483816 -0.14750423]\n",
      " [ 0.70663537 -0.07753736  0.08586913 -0.32104336]\n",
      " [ 0.09492154  0.01416831  0.36329692 -0.04207299]\n",
      " [ 0.75374486  0.3433831   0.05243772  0.0711576 ]\n",
      " [ 0.74497866  0.39843937  0.02755837  0.05399375]\n",
      " [ 0.75557128  0.39188084  0.02353685  0.15929652]]\n"
     ]
    }
   ],
   "source": [
    "# Print factor loadings\n",
    "loadings = fa.loadings_\n",
    "print(loadings)\n"
   ]
  },
  {
   "cell_type": "code",
   "execution_count": 13,
   "id": "51a8c7f8",
   "metadata": {},
   "outputs": [
    {
     "data": {
      "image/png": "[encoded data removed]",
      "text/plain": [
       "<Figure size 1000x800 with 2 Axes>"
      ]
     },
     "metadata": {},
     "output_type": "display_data"
    }
   ],
   "source": [
    "# Create a heatmap of the loadings matrix\n",
    "plt.figure(figsize=(10, 8))\n",
    "plt.imshow(loadings, cmap='hot', interpolation='nearest')\n",
    "plt.colorbar()\n",
    "plt.show()"
   ]
  },
  {
   "cell_type": "code",
   "execution_count": 14,
   "id": "746f58d6",
   "metadata": {},
   "outputs": [
    {
     "name": "stdout",
     "output_type": "stream",
     "text": [
      "Communalities:\n",
      "[0.22991901 0.54248725 0.55216146 0.27088883 0.35424869 0.41639753\n",
      " 0.59783388 0.36207397 0.75646118 0.06952091 0.58538012 0.46913098\n",
      " 0.69772446 0.38052256 0.28881476 0.3117259  0.1198077  0.88103363\n",
      " 0.42762395 0.19039921 0.6296025  0.61578793 0.14296563 0.69385639\n",
      " 0.71742192 0.75038791]\n"
     ]
    }
   ],
   "source": [
    "# Print communalities\n",
    "print(\"Communalities:\")\n",
    "print(fa.get_communalities())"
   ]
  },
  {
   "cell_type": "code",
   "execution_count": 15,
   "id": "0e06d3e2",
   "metadata": {},
   "outputs": [
    {
     "name": "stdout",
     "output_type": "stream",
     "text": [
      "Factor Scores:\n",
      "[[-6.28619810e-01  1.85657495e+00 -5.47518788e-01 -8.81439639e-01]\n",
      " [-1.69513917e+00  1.12800569e+00 -5.80307061e-01 -9.38083200e-01]\n",
      " [-1.20280926e+00  5.89699121e-01 -1.39117047e+00 -2.86780845e+00]\n",
      " [ 1.99352989e+00  4.88864630e-02 -2.07936524e+00  2.18544888e-01]\n",
      " [ 4.11314938e-01 -1.26821786e+00 -7.80871068e-01  6.66227668e-02]\n",
      " [-2.11478549e-01  2.03794867e-01 -6.50677258e-01  2.05175007e-01]\n",
      " [ 7.43577414e-01  6.43368409e-01  1.00212146e-01  1.03878998e+00]\n",
      " [-1.91404809e+00  3.03937163e-01 -1.32917343e+00 -2.15077576e-01]\n",
      " [-8.56474225e-01 -2.96859772e-03  2.93861240e-01  9.20161088e-02]\n",
      " [ 2.36520468e-01  5.51240981e-02  3.48091084e-02 -6.03796992e-01]\n",
      " [-4.68064023e-01 -8.66072455e-01 -7.46979249e-02 -6.21582815e-01]\n",
      " [-8.75004315e-01 -1.08807304e+00 -1.13530121e+00  6.56135464e-01]\n",
      " [-1.19487644e+00  8.94305027e-02  4.89637702e-01  9.91715547e-01]\n",
      " [-3.01457390e-01  1.00436691e-01  1.20733941e+00  1.97792408e-01]\n",
      " [-1.00291288e+00  4.94104229e-01 -1.24637983e-01 -2.07152723e-01]\n",
      " [-2.44664329e+00 -1.14035100e-01  1.61004603e-01  5.75188510e-01]\n",
      " [-1.25577852e+00 -3.56172541e-01 -7.15364639e-01  1.04921623e+00]\n",
      " [-1.17254643e+00  1.21161273e+00 -1.83678728e-01  8.19594319e-01]\n",
      " [ 4.04252093e-01  1.29219404e+00 -1.50176148e+00  1.71572732e-01]\n",
      " [ 4.91676471e-01  1.92667081e-01 -2.44581222e+00 -4.37601477e-01]\n",
      " [-1.17254643e+00  1.21161273e+00 -1.83678728e-01  8.19594319e-01]\n",
      " [-1.18430207e-01  6.13931034e-01  1.08967549e+00  1.32810441e+00]\n",
      " [-9.89415005e-01  1.50327658e+00 -2.60459035e-01  9.36551868e-01]\n",
      " [ 5.45913852e-01 -6.12972207e-01  1.19522538e+00  4.73974742e-01]\n",
      " [ 1.60656278e+00  8.48989951e-01  2.09647182e-01  3.46249460e-01]\n",
      " [-4.01168311e-01 -2.52486399e-01 -1.57889362e-01  1.35125022e+00]\n",
      " [-5.70149394e-01 -1.01616203e+00  1.02586731e+00  8.78902382e-01]\n",
      " [ 5.57012563e-02 -5.78556627e-02  5.09159481e-03  6.76539338e-01]\n",
      " [-1.07970194e+00  5.37184275e-01 -4.86901648e-01  1.41408062e+00]\n",
      " [ 8.96814388e-01 -6.47961136e-01 -7.65034714e-01 -7.04074726e-01]\n",
      " [ 8.69607739e-01  5.95486214e-01 -6.38034796e-01  3.78813834e-01]\n",
      " [-6.37345792e-01 -1.10103293e+00  1.22809788e-01 -4.53821318e-02]\n",
      " [-5.84226000e-01  4.19191751e-02  1.27085140e+00 -1.66638788e-01]\n",
      " [ 8.44456894e-01  4.74671387e-01  6.06588012e-01 -4.49510257e-01]\n",
      " [-1.53043479e+00  3.06961711e-01  5.04757526e-01 -2.77263260e-01]\n",
      " [ 2.52217456e-01  8.37519634e-01 -6.55798335e-01 -1.08047729e+00]\n",
      " [-2.65256777e-01 -3.93586020e-01  1.00265469e+00  6.73951550e-01]\n",
      " [ 8.75266383e-01 -1.57998569e+00  1.05827606e-01 -5.01792009e-01]\n",
      " [-5.83336497e-02 -1.24268737e-01  3.12218005e-01  6.25041470e-01]\n",
      " [-1.50415131e-01 -5.71515073e-01  4.42151099e-01 -1.13739773e+00]\n",
      " [-4.15456979e-01 -1.06805870e+00 -3.79121218e-01  4.16299000e-01]\n",
      " [ 5.67742151e-01  8.66194641e-01  1.18757241e+00 -1.73348436e+00]\n",
      " [ 1.48058291e+00  5.83408925e-02 -1.51677371e+00  6.14654359e-01]\n",
      " [ 8.84024402e-04  4.06199326e-01  1.29140536e+00 -5.16368247e-01]\n",
      " [-2.56762783e-01 -1.15793956e+00  1.58791117e+00 -1.52548092e+00]\n",
      " [ 1.44816076e+00  4.44470382e-01  7.83829959e-01 -6.65724904e-01]\n",
      " [ 8.48846697e-02 -2.16546183e+00 -1.80248624e-01  4.93744246e-01]\n",
      " [ 5.33469483e-01 -1.26207191e+00  7.49244263e-02 -7.46248249e-01]\n",
      " [ 2.00085383e+00  1.00510004e+00  1.59107983e+00  1.15336879e+00]\n",
      " [-1.42738760e+00 -2.49549280e+00 -1.05660548e+00 -4.33123003e-01]\n",
      " [-8.65061772e-01  1.96153191e-01 -7.08579634e-01 -1.83360932e+00]\n",
      " [ 1.70501392e+00  4.92152286e-01 -3.76624219e-01  4.57062151e-01]\n",
      " [ 3.96019583e-01  1.81555997e-01  1.77931153e+00  2.73626632e-01]\n",
      " [ 1.46786634e+00  1.05831828e+00 -2.58997488e-01  4.92588741e-01]\n",
      " [ 6.65334870e-01  2.27176811e-01  6.06908957e-01  8.51815105e-01]\n",
      " [ 2.74710655e-01 -1.41357737e+00  6.77218603e-02 -7.67939391e-02]\n",
      " [-1.97347985e-01  1.12002749e-01  1.05482628e+00  2.70223603e-01]\n",
      " [ 1.99352989e+00  4.88864630e-02 -2.07936524e+00  2.18544888e-01]\n",
      " [ 1.12932112e+00  9.58404479e-01  1.68152616e+00  5.00130556e-01]\n",
      " [ 1.93912323e-01 -5.05355630e-03  1.28422049e+00 -5.57090099e-02]\n",
      " [ 4.81064724e-01  1.00562153e+00 -5.75465577e-01 -1.29708782e+00]\n",
      " [ 8.71967764e-01 -8.31499540e-01 -3.84023326e-01 -4.96746432e-01]\n",
      " [ 8.93449731e-01 -1.27081948e+00  3.39359929e-01 -6.69371738e-01]\n",
      " [ 2.08727200e-01  3.38523741e-01 -2.09368069e+00 -3.60126646e-01]\n",
      " [-7.24940286e-01  6.18001923e-01  1.56431816e-01  7.05743997e-01]\n",
      " [-4.73622388e-01 -3.85109222e-01  2.20529761e+00 -4.48477671e-01]\n",
      " [ 6.28468777e-01 -1.07895384e+00  7.57875416e-01 -1.42062854e+00]\n",
      " [-4.15456979e-01 -1.06805870e+00 -3.79121218e-01  4.16299000e-01]\n",
      " [-1.69905855e-01 -4.61872633e-01 -4.66795077e-01  1.50323526e+00]\n",
      " [ 4.75841690e-01  1.51884316e+00  5.13103160e-01 -9.38694640e-01]]\n"
     ]
    }
   ],
   "source": [
    "# Print factor scores\n",
    "print(\"Factor Scores:\")\n",
    "print(fa.transform(sur_int.to_numpy()))"
   ]
  }
 ],
 "metadata": {
  "kernelspec": {
   "display_name": "Python 3 (ipykernel)",
   "language": "python",
   "name": "python3"
  },
  "language_info": {
   "codemirror_mode": {
    "name": "ipython",
    "version": 3
   },
   "file_extension": ".py",
   "mimetype": "text/x-python",
   "name": "python",
   "nbconvert_exporter": "python",
   "pygments_lexer": "ipython3",
   "version": "3.11.7"
  }
 },
 "nbformat": 4,
 "nbformat_minor": 5
}
